{
 "cells": [
  {
   "cell_type": "code",
   "execution_count": null,
   "id": "005f8ade-3b2e-4e90-bb1b-c3f5f894c1e4",
   "metadata": {},
   "outputs": [],
   "source": [
    "Q1. What is a database? Differentiate between SQL and NoSQL databases.\n",
    "\n",
    "Ans: A database is a systematic or organized collection of related information that is stored in such a way that it can be easily \n",
    "    accessed, retrieved, managed, and updated.\n",
    "    SQL (Structured Query Language) and NoSQL (Not only SQL) are two different types of database management systems.\n",
    "\n",
    "    SQL databases:\n",
    "        \n",
    "    1.RELATIONAL DATABASE MANAGEMENT SYSTEM (RDBMS).\n",
    "    2.These databases have fixed or static or predefined schema.\n",
    "    3.These databases are not suited for hierarchical data storage.\n",
    "    4.Vertically Scalable.\n",
    "    \n",
    "    NoSQL databases:\n",
    "        \n",
    "    1.Non-relational or distributed database system.\n",
    "    2.They have a dynamic schema\n",
    "    3.These databases are best suited for hierarchical data storage.\n",
    "    4.Horizontally scalable"
   ]
  },
  {
   "cell_type": "code",
   "execution_count": null,
   "id": "5c6ef2a9-700d-4c02-8aba-76bb4fc7d73d",
   "metadata": {},
   "outputs": [],
   "source": [
    "Q2. What is DDL? Explain why CREATE, DROP, ALTER, and TRUNCATE are used with an example.\n",
    "Ans: Data Definition Language(DDL) is a subset of SQL and a part of DBMS(Database Management System). DDL consist of Commands\n",
    "to commands like CREATE, ALTER, TRUNCATE and DROP. These commands are used to create or modify the tables in SQL.\n",
    "\n",
    "1.CREATE :\n",
    "This command is used to create a new table in SQL. The user has to give information like table name, column names, and their datatypes.\n"
   ]
  },
  {
   "cell_type": "code",
   "execution_count": null,
   "id": "11f3ebdc-eb05-4706-a9b8-7945fd33b5e0",
   "metadata": {},
   "outputs": [],
   "source": [
    "# Example: We need to create a table for storing Student information of a particular College. Create syntax would be as below.\n",
    "CREATE TABLE Student_info\n",
    "(\n",
    "College_Id number(2),\n",
    "College_name varchar(30),\n",
    "Branch varchar(10)\n",
    ");"
   ]
  },
  {
   "cell_type": "code",
   "execution_count": null,
   "id": "9099d4c5-eeb4-4079-8785-dae2ccb58aef",
   "metadata": {},
   "outputs": [],
   "source": [
    "2.ALTER :\n",
    "This command is used to add, delete or change columns in the existing table. The user needs to know the existing table name and can do add, \n",
    "delete or modify tasks easily."
   ]
  },
  {
   "cell_type": "code",
   "execution_count": null,
   "id": "8dd73874-5dc8-4ba2-b33b-235e5ec706d3",
   "metadata": {},
   "outputs": [],
   "source": [
    "Example –\n",
    "In our Student_info table, we want to add a new column for CGPA. The syntax would be as below as follows.\n",
    "\n",
    "ALTER TABLE Student_info\n",
    "ADD CGPA number;"
   ]
  },
  {
   "cell_type": "code",
   "execution_count": null,
   "id": "0a5f6200-7297-472e-ab52-e29a908411d8",
   "metadata": {},
   "outputs": [],
   "source": [
    "3.TRUNCATE :\n",
    "This command is used to remove all rows from the table, but the structure of the table still exists.\n",
    "Example –\n",
    "The College Authority wants to remove the details of all students for new batches but wants to keep the table structure. \n",
    "The command they can use is as follows.\n",
    "\n",
    "TRUNCATE TABLE Student_info;"
   ]
  },
  {
   "cell_type": "code",
   "execution_count": null,
   "id": "c7f062a5-d9a2-4b9b-8564-ad5bd9268495",
   "metadata": {},
   "outputs": [],
   "source": [
    "4.DROP :\n",
    "This command is used to remove an existing table along with its structure from the Database.\n",
    "\n",
    "Example –\n",
    "If the College Authority wants to change their Database by deleting the Student_info Table. \n",
    "\n",
    "DROP TABLE Student_info;"
   ]
  },
  {
   "cell_type": "code",
   "execution_count": null,
   "id": "8003a91c-fe35-4d91-a290-e4eb377dec3a",
   "metadata": {},
   "outputs": [],
   "source": [
    "Q3. What is DML? Explain INSERT, UPDATE, and DELETE with an example.\n",
    "Ans: DML:Data Manipulation Language(DML) is used to manipulate data present in the database.\n",
    "\n",
    "The SQL INSERT, UPDATE, and DELETE commands enable SQL users to manipulate and modify data:\n",
    "\n",
    "1.The INSERT statement introduces new rows into an existing table.\n",
    "\n",
    "example: INSERT INTO Employees (ID, Name, Salary)\n",
    "         VALUES (1, 'John Doe', 5000);\n",
    "         This statement inserts a new row into the \"Employees\" table with the specified values for the \"ID\", \"Name\", and \"Salary\" columns.\n",
    "\n",
    "2.The DELETE statement removes a row or combination of rows from a table.\n",
    "\n",
    "Example: DELETE FROM Employees\n",
    "         WHERE ID = 1;\n",
    "         This statement deletes the row(s) from the \"Employees\" table where the \"ID\" column value is 1.\n",
    "\n",
    "3.UPDATE statement: The UPDATE statement allows you to modify the values of one or more columns in existing rows of a table. \n",
    "It enables you to update data based on specified conditions.\n",
    "\n",
    "Here's an example:\n",
    "        UPDATE Employees\n",
    "        SET Salary = 6000\n",
    "        WHERE ID = 1;\n",
    "        \n"
   ]
  },
  {
   "cell_type": "code",
   "execution_count": null,
   "id": "521d2416-4e6d-43a0-bb62-f3428e7fa6a4",
   "metadata": {},
   "outputs": [],
   "source": [
    "Q4. What is DQL? Explain SELECT with an example.\n",
    "Ans: DQL stands for Data Query Language. It is a subset of SQL (Structured Query Language) used to retrieve and manipulate data from a database. \n",
    "     DQL primarily consists of the SELECT statement, which is used to query and retrieve data from one or more database tables.\n",
    "\n",
    "The SELECT statement allows to specify the columns we want to retrieve and apply filtering conditions to retrieve specific rows.\n",
    " Example:\n",
    "        SELECT column1, column2, ...\n",
    "        FROM table_name\n",
    "        WHERE condition;\n",
    "\n"
   ]
  },
  {
   "cell_type": "code",
   "execution_count": null,
   "id": "f37330a1-eefc-4e26-a928-358a7ba7a996",
   "metadata": {},
   "outputs": [],
   "source": [
    "Q5. Explain Primary Key and Foreign Key.\n",
    "Ans: Primary Key:\n",
    "     A primary key is a column or a combination of columns that uniquely identifies each row or record in a table. It ensures that each\n",
    "    row in a table has a unique identifier, and no two rows can have the same primary key value. The primary key provides a way to uniquely\n",
    "    identify and access individual records in a table.\n",
    "    \n",
    "    Foreign Key:\n",
    "    A foreign key is a column or a set of columns in a table that establishes a link or reference to the primary key of another table. \n",
    "    It creates a relationship between two tables, known as the parent table (with the primary key) and the child table (with the foreign key). \n",
    "    The foreign key represents a column in the child table that refers to the primary key in the parent table."
   ]
  },
  {
   "cell_type": "code",
   "execution_count": null,
   "id": "93c134b2-61b6-4765-ae39-175d6c3a3957",
   "metadata": {},
   "outputs": [],
   "source": [
    "Q6. Write a python code to connect MySQL to python. Explain the cursor() and execute() method."
   ]
  },
  {
   "cell_type": "code",
   "execution_count": null,
   "id": "74630309-3f8a-4ec4-8051-6b3c3c5fd1df",
   "metadata": {},
   "outputs": [],
   "source": [
    "import mysql.connector\n",
    "\n",
    "# Establishing the connection\n",
    "cnx = mysql.connector.connect(\n",
    "    host=\"localhost\",\n",
    "    user=\"your_username\",\n",
    "    password=\"your_password\",\n",
    "    database=\"your_database\"\n",
    ")\n",
    "\n",
    "# Creating a cursor object\n",
    "cursor = cnx.cursor()\n",
    "\n",
    "# Executing a query\n",
    "query = \"SELECT * FROM Employees\"\n",
    "cursor.execute(query)\n",
    "\n",
    "# Fetching the results\n",
    "results = cursor.fetchall()\n",
    "\n",
    "# Displaying the results\n",
    "for row in results:\n",
    "    print(row)\n",
    "\n",
    "# Closing the cursor and the connection\n",
    "cursor.close()\n",
    "cnx.close()\n"
   ]
  },
  {
   "cell_type": "code",
   "execution_count": null,
   "id": "0466003b-43c9-4d3d-9d71-d60bac03b13f",
   "metadata": {},
   "outputs": [],
   "source": [
    "cursor() method:\n",
    "The cursor() method is used to create a cursor object. A cursor is responsible for executing SQL statements and fetching results from the database. \n",
    "It acts as a handle or pointer to the result set.\n",
    "\n",
    "execute() method:\n",
    "The execute() method is used to execute SQL statements or queries. It takes the SQL statement as a parameter and sends it to the MySQL database \n",
    "for execution. The statement can be a DDL (Data Definition Language) or DML (Data Manipulation Language) statement."
   ]
  },
  {
   "cell_type": "code",
   "execution_count": null,
   "id": "a2c9351b-bfa2-4e98-9e4c-21b3341bb7b2",
   "metadata": {},
   "outputs": [],
   "source": [
    "Q7. Give the order of execution of SQL clauses in an SQL query.\n",
    "Ans: The order of execution of sql "
   ]
  }
 ],
 "metadata": {
  "kernelspec": {
   "display_name": "Python 3 (ipykernel)",
   "language": "python",
   "name": "python3"
  },
  "language_info": {
   "codemirror_mode": {
    "name": "ipython",
    "version": 3
   },
   "file_extension": ".py",
   "mimetype": "text/x-python",
   "name": "python",
   "nbconvert_exporter": "python",
   "pygments_lexer": "ipython3",
   "version": "3.10.8"
  }
 },
 "nbformat": 4,
 "nbformat_minor": 5
}
